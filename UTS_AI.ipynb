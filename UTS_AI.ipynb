{
  "nbformat": 4,
  "nbformat_minor": 0,
  "metadata": {
    "colab": {
      "name": "UTS AI.ipynb",
      "provenance": [],
      "collapsed_sections": []
    },
    "kernelspec": {
      "name": "python3",
      "display_name": "Python 3"
    },
    "language_info": {
      "name": "python"
    }
  },
  "cells": [
    {
      "cell_type": "code",
      "execution_count": null,
      "metadata": {
        "id": "aUgnzLFsPpro"
      },
      "outputs": [],
      "source": [
        "!pip install opencv-python"
      ]
    },
    {
      "cell_type": "code",
      "source": [
        "!pip install matplotlib"
      ],
      "metadata": {
        "id": "NSgPGmGtP_ZM"
      },
      "execution_count": null,
      "outputs": []
    },
    {
      "cell_type": "code",
      "source": [
        "!pip install numpy"
      ],
      "metadata": {
        "id": "dhTpod4B74Ok"
      },
      "execution_count": null,
      "outputs": []
    },
    {
      "cell_type": "markdown",
      "source": [
        "***LOGISTIC REGRESSION***"
      ],
      "metadata": {
        "id": "nFczlBrsXvmc"
      }
    },
    {
      "cell_type": "code",
      "source": [
        "import numpy as np\n",
        "import matplotlib.pyplot as plt\n",
        "from sklearn import linear_model "
      ],
      "metadata": {
        "id": "xb2ZDObp_oS1"
      },
      "execution_count": 4,
      "outputs": []
    },
    {
      "cell_type": "code",
      "source": [
        "\n",
        "\n",
        "def visualize_classifier(classifier, X, y):\n",
        "    # Define the minimum and maximum values for X and Y\n",
        "    # that will be used in the mesh grid\n",
        "    min_x, max_x = X[:, 0].min() - 1.0, X[:, 0].max() + 1.0\n",
        "    min_y, max_y = X[:, 1].min() - 1.0, X[:, 1].max() + 1.0\n",
        "\n",
        "    # Define the step size to use in plotting the mesh grid \n",
        "    mesh_step_size = 0.01\n",
        "\n",
        "    # Define the mesh grid of X and Y values\n",
        "    x_vals, y_vals = np.meshgrid(np.arange(min_x, max_x, mesh_step_size), np.arange(min_y, max_y, mesh_step_size))\n",
        "\n",
        "    # Run the classifier on the mesh grid\n",
        "    output = classifier.predict(np.c_[x_vals.ravel(), y_vals.ravel()])\n",
        "\n",
        "    # Reshape the output array\n",
        "    output = output.reshape(x_vals.shape)\n",
        "\n",
        "    # Create a plot\n",
        "    plt.figure()\n",
        "\n",
        "    # Choose a color scheme for the plot \n",
        "    plt.pcolormesh(x_vals, y_vals, output, cmap=plt.cm.gray)\n",
        "\n",
        "    # Overlay the training points on the plot \n",
        "    plt.scatter(X[:, 0], X[:, 1], c=y, s=75, edgecolors='black', linewidth=1, cmap=plt.cm.Paired)\n",
        "\n",
        "    # Specify the boundaries of the plot\n",
        "    plt.xlim(x_vals.min(), x_vals.max())\n",
        "    plt.ylim(y_vals.min(), y_vals.max())\n",
        "\n",
        "    # Specify the ticks on the X and Y axes\n",
        "    plt.xticks((np.arange(int(X[:, 0].min() - 1), int(X[:, 0].max() + 1), 1.0)))\n",
        "    plt.yticks((np.arange(int(X[:, 1].min() - 1), int(X[:, 1].max() + 1), 1.0)))\n",
        "\n",
        "    plt.show()\n"
      ],
      "metadata": {
        "id": "2geexXrG_eLD"
      },
      "execution_count": 5,
      "outputs": []
    },
    {
      "cell_type": "code",
      "source": [
        "# Define sample input data\n",
        "X = np.array([[3.1, 7.2], [4, 6.7], [2.9, 8], [5.1, 4.5], [6, 5], [5.6, 5], [3.3, 0.4], [3.9, 0.9], [2.8, 1], [0.5, 3.4], [1, 4], [0.6, 4.9]])\n",
        "y = np.array([0, 0, 0, 1, 1, 1, 2, 2, 2, 3, 3, 3])\n",
        "\n",
        "# Create the logistic regression classifier\n",
        "classifier = linear_model.LogisticRegression(solver='liblinear', C=1)\n",
        "\n",
        "# Train the classifier\n",
        "classifier.fit(X, y)\n",
        "\n",
        "# Visualize the performance of the classifier \n",
        "visualize_classifier(classifier, X, y)"
      ],
      "metadata": {
        "id": "tMWTeX4rA_YT"
      },
      "execution_count": null,
      "outputs": []
    },
    {
      "cell_type": "code",
      "source": [
        "classifier = linear_model.LogisticRegression(solver='liblinear', C=100)\n",
        "# Train the classifier\n",
        "classifier.fit(X, y)\n",
        "\n",
        "# Visualize the performance of the classifier \n",
        "visualize_classifier(classifier, X, y)"
      ],
      "metadata": {
        "id": "6B3ADSN0BS4j"
      },
      "execution_count": null,
      "outputs": []
    },
    {
      "cell_type": "markdown",
      "source": [
        "***DECISION TREES***"
      ],
      "metadata": {
        "id": "jb-pq0JqX2ec"
      }
    },
    {
      "cell_type": "code",
      "source": [
        "from google.colab import drive\n",
        "drive.mount('/content/drive')"
      ],
      "metadata": {
        "id": "Hfhy3HJNB44o"
      },
      "execution_count": null,
      "outputs": []
    },
    {
      "cell_type": "code",
      "source": [
        "import numpy as np\n",
        "import matplotlib.pyplot as plt\n",
        "import numpy as np\n",
        "import matplotlib.pyplot as plt\n",
        "from sklearn.metrics import classification_report\n",
        "\n",
        "from sklearn.tree import DecisionTreeClassifier\n",
        "from sklearn.model_selection import train_test_split"
      ],
      "metadata": {
        "id": "qQ7LdpU8EWP8"
      },
      "execution_count": 9,
      "outputs": []
    },
    {
      "cell_type": "code",
      "source": [
        "def visualize_classifier(classifier, X, y, title=''):\n",
        "    # Define the minimum and maximum values for X and Y\n",
        "    # that will be used in the mesh grid\n",
        "    min_x, max_x = X[:, 0].min() - 1.0, X[:, 0].max() + 1.0\n",
        "    min_y, max_y = X[:, 1].min() - 1.0, X[:, 1].max() + 1.0\n",
        "\n",
        "    # Define the step size to use in plotting the mesh grid \n",
        "    mesh_step_size = 0.01\n",
        "\n",
        "    # Define the mesh grid of X and Y values\n",
        "    x_vals, y_vals = np.meshgrid(np.arange(min_x, max_x, mesh_step_size), np.arange(min_y, max_y, mesh_step_size))\n",
        "\n",
        "    # Run the classifier on the mesh grid\n",
        "    output = classifier.predict(np.c_[x_vals.ravel(), y_vals.ravel()])\n",
        "\n",
        "    # Reshape the output array\n",
        "    output = output.reshape(x_vals.shape)\n",
        "\n",
        "    # Create a plot\n",
        "    plt.figure()\n",
        "\n",
        "    # Specify the title\n",
        "    plt.title(title)\n",
        "\n",
        "    # Choose a color scheme for the plot \n",
        "    plt.pcolormesh(x_vals, y_vals, output, cmap=plt.cm.gray)\n",
        "\n",
        "    # Overlay the training points on the plot \n",
        "    plt.scatter(X[:, 0], X[:, 1], c=y, s=75, edgecolors='black', linewidth=1, cmap=plt.cm.Paired)\n",
        "\n",
        "    # Specify the boundaries of the plot\n",
        "    plt.xlim(x_vals.min(), x_vals.max())\n",
        "    plt.ylim(y_vals.min(), y_vals.max())\n",
        "\n",
        "    # Specify the ticks on the X and Y axes\n",
        "    plt.xticks((np.arange(int(X[:, 0].min() - 1), int(X[:, 0].max() + 1), 1.0)))\n",
        "    plt.yticks((np.arange(int(X[:, 1].min() - 1), int(X[:, 1].max() + 1), 1.0)))\n",
        "\n",
        "    plt.show()"
      ],
      "metadata": {
        "id": "HEgnyn8EEmXI"
      },
      "execution_count": 10,
      "outputs": []
    },
    {
      "cell_type": "code",
      "source": [
        "# Load input data from google drive\n",
        "input_file = '/content/drive/My Drive/Data Training AI/data_decision_trees.txt'\n",
        "data = np.loadtxt(input_file, delimiter=',')\n",
        "X, y = data[:, :-1], data[:, -1]\n",
        "\n",
        "# Separate input data into two classes based on labels\n",
        "class_0 = np.array(X[y==0])\n",
        "class_1 = np.array(X[y==1])\n",
        "\n",
        "# Visualize input data\n",
        "plt.figure()\n",
        "plt.scatter(class_0[:, 0], class_0[:, 1], s=75, facecolors='black', \n",
        "        edgecolors='black', linewidth=1, marker='x')\n",
        "plt.scatter(class_1[:, 0], class_1[:, 1], s=75, facecolors='white', \n",
        "        edgecolors='black', linewidth=1, marker='o')\n",
        "plt.title('Input data')\n",
        "\n",
        "# Split data into training and testing datasets \n",
        "X_train, X_test, y_train, y_test = train_test_split(\n",
        "        X, y, test_size=0.25, random_state=5)\n",
        "\n",
        "# Decision Trees classifier \n",
        "params = {'random_state': 0, 'max_depth': 4}\n",
        "classifier = DecisionTreeClassifier(**params)\n",
        "classifier.fit(X_train, y_train)\n",
        "visualize_classifier(classifier, X_train, y_train, 'Training dataset')\n",
        "\n",
        "y_test_pred = classifier.predict(X_test)\n",
        "visualize_classifier(classifier, X_test, y_test, 'Test dataset')\n",
        "\n",
        "# Evaluate classifier performance\n",
        "class_names = ['Class-0', 'Class-1']\n",
        "print(\"\\n\" + \"#\"*40)\n",
        "print(\"\\nClassifier performance on training dataset\\n\")\n",
        "print(classification_report(y_train, classifier.predict(X_train), target_names=class_names))\n",
        "print(\"#\"*40 + \"\\n\")\n",
        "\n",
        "print(\"#\"*40)\n",
        "print(\"\\nClassifier performance on test dataset\\n\")\n",
        "print(classification_report(y_test, y_test_pred, target_names=class_names))\n",
        "print(\"#\"*40 + \"\\n\")\n",
        "\n",
        "plt.show()"
      ],
      "metadata": {
        "id": "atU87qmwEm8E"
      },
      "execution_count": null,
      "outputs": []
    },
    {
      "cell_type": "markdown",
      "source": [
        "***DATA CLUSTERING (MEAN SHIFT)***"
      ],
      "metadata": {
        "id": "jo_bVULrF12p"
      }
    },
    {
      "cell_type": "code",
      "source": [
        "from google.colab import drive\n",
        "drive.mount('/content/drive')"
      ],
      "metadata": {
        "colab": {
          "base_uri": "https://localhost:8080/"
        },
        "id": "eRoJ5zfWErh1",
        "outputId": "bb5f72e2-d36d-418a-e665-4284d6d13c60"
      },
      "execution_count": 12,
      "outputs": [
        {
          "output_type": "stream",
          "name": "stdout",
          "text": [
            "Drive already mounted at /content/drive; to attempt to forcibly remount, call drive.mount(\"/content/drive\", force_remount=True).\n"
          ]
        }
      ]
    },
    {
      "cell_type": "code",
      "source": [
        "import numpy as np\n",
        "import matplotlib.pyplot as plt\n",
        "from sklearn.cluster import MeanShift, estimate_bandwidth\n",
        "from itertools import cycle"
      ],
      "metadata": {
        "id": "wcOk83DnGDMV"
      },
      "execution_count": 13,
      "outputs": []
    },
    {
      "cell_type": "code",
      "source": [
        "# Load data from input file\n",
        "X = np.loadtxt('/content/drive/My Drive/Data Training AI/data_clustering.txt', delimiter=',')\n",
        "\n",
        "# Estimate the bandwidth of X\n",
        "bandwidth_X = estimate_bandwidth(X, quantile=0.1, n_samples=len(X))\n",
        "\n",
        "# Cluster data with MeanShift\n",
        "meanshift_model = MeanShift(bandwidth=bandwidth_X, bin_seeding=True)\n",
        "meanshift_model.fit(X)\n",
        "\n",
        "# Extract the centers of clusters\n",
        "cluster_centers = meanshift_model.cluster_centers_\n",
        "print('\\nCenters of clusters:\\n', cluster_centers)\n",
        "\n",
        "# Estimate the number of clusters\n",
        "labels = meanshift_model.labels_\n",
        "num_clusters = len(np.unique(labels))\n",
        "print(\"\\nNumber of clusters in input data =\", num_clusters)\n",
        "\n",
        "# Plot the points and cluster centers\n",
        "plt.figure()\n",
        "markers = 'o*xvs'\n",
        "for i, marker in zip(range(num_clusters), markers):\n",
        "    # Plot points that belong to the current cluster\n",
        "    plt.scatter(X[labels==i, 0], X[labels==i, 1], marker=marker, color='black')\n",
        "\n",
        "    # Plot the cluster center\n",
        "    cluster_center = cluster_centers[i]\n",
        "    plt.plot(cluster_center[0], cluster_center[1], marker='o', \n",
        "            markerfacecolor='black', markeredgecolor='black', \n",
        "            markersize=15)\n",
        "\n",
        "plt.title('Clusters')\n",
        "plt.show()"
      ],
      "metadata": {
        "id": "yzYmmxXPGJqg"
      },
      "execution_count": null,
      "outputs": []
    },
    {
      "cell_type": "markdown",
      "source": [
        "***K-NEAREST NEIGHBOURS***"
      ],
      "metadata": {
        "id": "CcGXWeI1G18q"
      }
    },
    {
      "cell_type": "code",
      "source": [
        "from google.colab import drive\n",
        "drive.mount('/content/drive')"
      ],
      "metadata": {
        "colab": {
          "base_uri": "https://localhost:8080/"
        },
        "id": "bMgk56srGXDU",
        "outputId": "8efd09ab-e0dd-40c3-caa9-223f716b58f9"
      },
      "execution_count": 15,
      "outputs": [
        {
          "output_type": "stream",
          "name": "stdout",
          "text": [
            "Drive already mounted at /content/drive; to attempt to forcibly remount, call drive.mount(\"/content/drive\", force_remount=True).\n"
          ]
        }
      ]
    },
    {
      "cell_type": "code",
      "source": [
        "import numpy as np\n",
        "import matplotlib.pyplot as plt\n",
        "import matplotlib.cm as cm\n",
        "from sklearn import neighbors, datasets"
      ],
      "metadata": {
        "id": "layXj3OMHGi8"
      },
      "execution_count": 16,
      "outputs": []
    },
    {
      "cell_type": "code",
      "source": [
        "# Load input data\n",
        "input_file = '/content/drive/My Drive/Data Training AI/data.txt'\n",
        "data = np.loadtxt(input_file, delimiter=',')\n",
        "X, y = data[:, :-1], data[:, -1].astype(np.int)\n",
        "\n",
        "# Plot input data\n",
        "plt.figure()\n",
        "plt.title('Input data')\n",
        "marker_shapes = 'v^os'\n",
        "mapper = [marker_shapes[i] for i in y]\n",
        "for i in range(X.shape[0]):\n",
        "    plt.scatter(X[i, 0], X[i, 1], marker=mapper[i], \n",
        "            s=75, edgecolors='black', facecolors='none')\n",
        "\n",
        "# Number of nearest neighbors \n",
        "num_neighbors = 12\n",
        "\n",
        "# Step size of the visualization grid\n",
        "step_size = 0.01  \n",
        "\n",
        "# Create a K Nearest Neighbours classifier model \n",
        "classifier = neighbors.KNeighborsClassifier(num_neighbors, weights='distance')\n",
        "\n",
        "# Train the K Nearest Neighbours model\n",
        "classifier.fit(X, y)\n",
        "\n",
        "# Create the mesh to plot the boundaries\n",
        "x_min, x_max = X[:, 0].min() - 1, X[:, 0].max() + 1\n",
        "y_min, y_max = X[:, 1].min() - 1, X[:, 1].max() + 1\n",
        "x_values, y_values = np.meshgrid(np.arange(x_min, x_max, step_size), \n",
        "        np.arange(y_min, y_max, step_size))\n",
        "\n",
        "# Evaluate the classifier on all the points on the grid \n",
        "output = classifier.predict(np.c_[x_values.ravel(), y_values.ravel()])\n",
        "\n",
        "# Visualize the predicted output \n",
        "output = output.reshape(x_values.shape)\n",
        "plt.figure()\n",
        "plt.pcolormesh(x_values, y_values, output, cmap=cm.Paired)\n",
        "\n",
        "# Overlay the training points on the map\n",
        "for i in range(X.shape[0]):\n",
        "    plt.scatter(X[i, 0], X[i, 1], marker=mapper[i], \n",
        "            s=50, edgecolors='black', facecolors='none')\n",
        "\n",
        "plt.xlim(x_values.min(), x_values.max())\n",
        "plt.ylim(y_values.min(), y_values.max())\n",
        "plt.title('K Nearest Neighbors classifier model boundaries')\n",
        "\n",
        "# Test input datapoint\n",
        "test_datapoint = [5.1, 3.6]\n",
        "plt.figure()\n",
        "plt.title('Test datapoint')\n",
        "for i in range(X.shape[0]):\n",
        "    plt.scatter(X[i, 0], X[i, 1], marker=mapper[i], \n",
        "            s=75, edgecolors='black', facecolors='none')\n",
        "\n",
        "plt.scatter(test_datapoint[0], test_datapoint[1], marker='x', \n",
        "        linewidth=6, s=200, facecolors='black')\n",
        "\n",
        "# Extract the K nearest neighbors\n",
        "_, indices = classifier.kneighbors([test_datapoint])\n",
        "indices = indices.astype(np.int)[0]\n",
        "\n",
        "# Plot k nearest neighbors\n",
        "plt.figure()\n",
        "plt.title('K Nearest Neighbors')\n",
        "\n",
        "for i in indices:\n",
        "    plt.scatter(X[i, 0], X[i, 1], marker=mapper[y[i]], \n",
        "            linewidth=3, s=100, facecolors='black')\n",
        "\n",
        "plt.scatter(test_datapoint[0], test_datapoint[1], marker='x', \n",
        "        linewidth=6, s=200, facecolors='black')\n",
        "\n",
        "for i in range(X.shape[0]):\n",
        "    plt.scatter(X[i, 0], X[i, 1], marker=mapper[i], \n",
        "            s=75, edgecolors='black', facecolors='none')\n",
        "\n",
        "print(\"Predicted output:\", classifier.predict([test_datapoint])[0])\n",
        "\n",
        "plt.show()"
      ],
      "metadata": {
        "id": "DCu5wMeuHPmU"
      },
      "execution_count": null,
      "outputs": []
    },
    {
      "cell_type": "markdown",
      "source": [
        "***STATES***"
      ],
      "metadata": {
        "id": "9RAxenIqH-J9"
      }
    },
    {
      "cell_type": "code",
      "source": [
        "!pip install logic"
      ],
      "metadata": {
        "id": "IEldJEpXH89H"
      },
      "execution_count": null,
      "outputs": []
    },
    {
      "cell_type": "code",
      "source": [
        "!pip install 'git+https://github.com/MHordecki/LogPy#egg=logPy'"
      ],
      "metadata": {
        "id": "pGA-XhuWIMiI"
      },
      "execution_count": null,
      "outputs": []
    },
    {
      "cell_type": "code",
      "source": [
        "from logpy import run, fact, eq, Relation, var\n",
        "\n",
        "adjacent = Relation()\n",
        "coastal = Relation()\n",
        "\n",
        "file_coastal = '/content/drive/My Drive/Data Training AI/coastal_states.txt'\n",
        "file_adjacent = '/content/drive/My Drive/Data Training AI/adjacent_states.txt'\n",
        "\n",
        "# Read the file containing the coastal states\n",
        "with open(file_coastal, 'r') as f:\n",
        "    line = f.read()\n",
        "    coastal_states = line.split(',')\n",
        "\n",
        "# Add the info to the fact base\n",
        "for state in coastal_states:\n",
        "    fact(coastal, state)\n",
        "\n",
        "# Read the file containing the coastal states\n",
        "with open(file_adjacent, 'r') as f:\n",
        "    adjlist = [line.strip().split(',') for line in f if line and line[0].isalpha()]\n",
        "\n",
        "# Add the info to the fact base\n",
        "for L in adjlist:\n",
        "    head, tail = L[0], L[1:]\n",
        "    for state in tail:\n",
        "        fact(adjacent, head, state)\n",
        "\n",
        "# Initialize the variables\n",
        "x = var()\n",
        "y = var()\n",
        "\n",
        "# Is Nevada adjacent to Louisiana?\n",
        "output = run(0, x, adjacent('Nevada', 'Louisiana'))\n",
        "print('\\nIs Nevada adjacent to Louisiana?:')\n",
        "print('Yes' if len(output) else 'No')\n",
        "\n",
        "# States adjacent to Oregon\n",
        "output = run(0, x, adjacent('Oregon', x))\n",
        "print('\\nList of states adjacent to Oregon:')\n",
        "for item in output:\n",
        "    print(item)\n",
        "\n",
        "# States adjacent to Mississippi that are coastal\n",
        "output = run(0, x, adjacent('Mississippi', x), coastal(x))\n",
        "print('\\nList of coastal states adjacent to Mississippi:')\n",
        "for item in output:\n",
        "    print(item)\n",
        "\n",
        "# List of 'n' states that border a coastal state\n",
        "n = 7\n",
        "output = run(n, x, coastal(y), adjacent(x, y))\n",
        "print('\\nList of ' + str(n) + ' states that border a coastal state:')\n",
        "for item in output:\n",
        "    print(item)\n",
        "\n",
        "# List of states that adjacent to the two given states\n",
        "output = run(0, x, adjacent('Arkansas', x), adjacent('Kentucky', x))\n",
        "print('\\nList of states that are adjacent to Arkansas and Kentucky:')\n",
        "for item in output:\n",
        "    print(item)"
      ],
      "metadata": {
        "id": "A5Z2TGhoIQp_"
      },
      "execution_count": null,
      "outputs": []
    }
  ]
}